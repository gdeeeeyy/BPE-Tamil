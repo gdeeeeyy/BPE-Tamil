{
 "cells": [
  {
   "cell_type": "code",
   "execution_count": 6,
   "metadata": {},
   "outputs": [
    {
     "data": {
      "text/plain": [
       "\"\\nwhat we've to do is:\\n\\nif(the encoded word has two parts):\\n    -we cant really split it like a normal english word with suffix-mid-prefix, so we've to try to expand the begining, middle and ending properly\\n    -split this and then encode the word now, without splitting it further.\\n    -after getting the op of the transformer, try to fine tune the model using data that can be used to generate words that follow punarchi vidhi\\n(ALWAYS CLEAR THE OUTPUT CELSS BEFORE PUSHING)\\n\""
      ]
     },
     "execution_count": 6,
     "metadata": {},
     "output_type": "execute_result"
    }
   ],
   "source": [
    "\"\"\"\n",
    "what we've to do is:\n",
    "\n",
    "if(the encoded word has two parts):\n",
    "    -we cant really split it like a normal english word with suffix-mid-prefix, so we've to try to expand the begining, middle and ending properly\n",
    "    -split this and then encode the word now, without splitting it further.\n",
    "    -after getting the op of the transformer, try to fine tune the model using data that can be used to generate words that follow punarchi vidhi\n",
    "(ALWAYS CLEAR THE OUTPUT CELSS BEFORE PUSHING)\n",
    "\"\"\"     "
   ]
  },
  {
   "cell_type": "code",
   "execution_count": null,
   "metadata": {},
   "outputs": [],
   "source": [
    "#code for reading the file\n",
    "\"\"\"some wget thingy\"\"\"\n",
    "!wget https://raw.githubusercontent.com/Ishikahooda/Tamil-English-Dataset/master/Dataset/data.ta1"
   ]
  },
  {
   "cell_type": "code",
   "execution_count": null,
   "metadata": {},
   "outputs": [],
   "source": [
    "import re, collections"
   ]
  },
  {
   "cell_type": "code",
   "execution_count": null,
   "metadata": {},
   "outputs": [],
   "source": [
    "def vowelSandhi(word:str)->tuple[str]:\n",
    "    #If the word contains 'ஆ', it might be split as 'அ' + 'அ'\n",
    "    if \"ஆ\" in word:\n",
    "        parts = word.split(\"ஆ\", 1)\n",
    "        return parts[0] + \"அ\", \"அ\" + parts[1]\n",
    "    \n",
    "    #If the word contains 'உவ்', it might be split as 'உ' + 'அ'\n",
    "    if \"உவ்\" in word:\n",
    "        parts = word.split(\"உவ்\", 1)\n",
    "        return parts[0] + \"உ\", \"அ\" + parts[1]\n",
    "    \n",
    "    return None"
   ]
  },
  {
   "cell_type": "code",
   "execution_count": null,
   "metadata": {},
   "outputs": [],
   "source": [
    "def consonantSandhi(word:str)->tuple[str]:\n",
    "    \"\"\"Reverse consonant sandhi rules for Tamil.\"\"\"\n",
    "    #If 'ங்' is present, it might be split as 'க்' + 'ந்'\n",
    "    if \"ங்\" in word:\n",
    "        parts = word.split(\"ங்\", 1)\n",
    "        return parts[0] + \"க்\", \"ந்\" + parts[1]\n",
    "    \n",
    "    return None\n"
   ]
  },
  {
   "cell_type": "code",
   "execution_count": null,
   "metadata": {},
   "outputs": [],
   "source": [
    "def splitWord(word:str)->tuple[str]:\n",
    "    \"\"\"Splits a sandhi-joined word into its original components.\"\"\"\n",
    "    # Applying vowel sandhi rules\n",
    "    result = vowelSandhi(word)\n",
    "    if result:\n",
    "        return result\n",
    "\n",
    "    #Applying consonant sandhi rules\n",
    "    result = consonantSandhi(word)\n",
    "    if result:\n",
    "        return result\n",
    "\n",
    "    #If no rules match, return the original word as a single component\n",
    "    return (word, None)\n"
   ]
  },
  {
   "cell_type": "code",
   "execution_count": null,
   "metadata": {},
   "outputs": [],
   "source": [
    "def splitSentence(sentence:str)->list[tuple[str]]:\n",
    "    #Splits a sentence into individual components \n",
    "    #this can be further used to apply BPE\n",
    "    words = sentence.split()\n",
    "    split_results = []\n",
    "\n",
    "    for word in words:\n",
    "        split_results.append(splitWord(word))\n",
    "    \n",
    "    return split_results\n"
   ]
  }
 ],
 "metadata": {
  "kernelspec": {
   "display_name": "Python 3 (ipykernel)",
   "language": "python",
   "name": "python3"
  },
  "language_info": {
   "codemirror_mode": {
    "name": "ipython",
    "version": 3
   },
   "file_extension": ".py",
   "mimetype": "text/x-python",
   "name": "python",
   "nbconvert_exporter": "python",
   "pygments_lexer": "ipython3",
   "version": "3.10.12"
  }
 },
 "nbformat": 4,
 "nbformat_minor": 2
}
